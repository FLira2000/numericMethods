{
 "cells": [
  {
   "cell_type": "code",
   "execution_count": 4,
   "metadata": {
    "id": "m6UKbd93IixQ"
   },
   "outputs": [],
   "source": [
    "def newton_raphson(f, df, x0, Err, prec, N):\n",
    "    '''\n",
    "    Parameters\n",
    "    -----------\n",
    "    f : Function\n",
    "      The function to approximate.\n",
    "    df : Function\n",
    "      The derivative function, which will be used to find the approximation.\n",
    "    x0 : Number\n",
    "      Start guessing value.\n",
    "    Err : Floating point number\n",
    "      The error criteria, should be floating point.\n",
    "    prec : Number\n",
    "      The precision of the algorithm. How many digits we should use for truncate the calculations.\n",
    "    N : Number\n",
    "      How many\n",
    "\n",
    "    Returns\n",
    "    --------\n",
    "    x_n : Number\n",
    "      The x number founded for the aproximation.\n",
    "    '''\n",
    "\n",
    "    n = 0 \n",
    "    x_n = x0\n",
    "    x_n_1 = 0\n",
    "\n",
    "    trunc = lambda x: float(f\"%.{prec}f\" % x)\n",
    "\n",
    "    for n in range(n, N):\n",
    "        x_n_1 = trunc(trunc(f(x_n))/trunc(df(x_n)))\n",
    "        print(f\"x_{n} = {x_n} \\t f(x_{n}) = {trunc(f(x_n))} \\t df(x_{n}) = {trunc(df(x_n))} \\t x_{n+1} = {x_n_1}\")\n",
    "        if abs(x_n_1 - x_n) < Err:\n",
    "            return x_n_1\n",
    "        x_n = x_n_1\n",
    "        n+=1\n",
    "    \n",
    "    return x_n"
   ]
  },
  {
   "cell_type": "code",
   "execution_count": 5,
   "metadata": {
    "id": "r6f-pj0pMdas"
   },
   "outputs": [],
   "source": [
    "from numpy import cos, sin"
   ]
  },
  {
   "cell_type": "code",
   "execution_count": 6,
   "metadata": {
    "colab": {
     "base_uri": "https://localhost:8080/"
    },
    "id": "9wPt7YZaMOIH",
    "outputId": "95e95cec-cdbf-4497-ecec-4616263996a4"
   },
   "outputs": [
    {
     "name": "stdout",
     "output_type": "stream",
     "text": [
      "x_0 = 1.5 \t f(x_0) = 3.30426 \t df(x_0) = 7.74749 \t x_1 = 0.42649\n",
      "x_1 = 0.42649 \t f(x_1) = -0.83285 \t df(x_1) = 0.95936 \t x_2 = -0.86813\n",
      "x_2 = -0.86813 \t f(x_2) = -1.30052 \t df(x_2) = 1.49783 \t x_3 = -0.86827\n"
     ]
    },
    {
     "data": {
      "text/plain": [
       "-0.86827"
      ]
     },
     "execution_count": 6,
     "metadata": {},
     "output_type": "execute_result"
    }
   ],
   "source": [
    "newton_raphson(lambda x: x**3 - cos(x), lambda x: 3*(x**2) + sin(x), 1.5, 1e-6, 5, 3)"
   ]
  },
  {
   "cell_type": "code",
   "execution_count": null,
   "metadata": {},
   "outputs": [],
   "source": []
  }
 ],
 "metadata": {
  "colab": {
   "collapsed_sections": [],
   "name": "newton_raphson_method",
   "provenance": []
  },
  "kernelspec": {
   "display_name": "Python 3",
   "language": "python",
   "name": "python3"
  },
  "language_info": {
   "codemirror_mode": {
    "name": "ipython",
    "version": 3
   },
   "file_extension": ".py",
   "mimetype": "text/x-python",
   "name": "python",
   "nbconvert_exporter": "python",
   "pygments_lexer": "ipython3",
   "version": "3.7.7"
  }
 },
 "nbformat": 4,
 "nbformat_minor": 1
}

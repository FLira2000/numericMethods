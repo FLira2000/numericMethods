{
 "cells": [
  {
   "cell_type": "code",
   "execution_count": null,
   "metadata": {
    "id": "hOV5Qzhf_plZ"
   },
   "outputs": [],
   "source": [
    "def successive_approx(f, phi, I, Err, prec, N):\n",
    "    '''\n",
    "    Parameters\n",
    "    -----------\n",
    "    f : Function\n",
    "      The function to approximate.\n",
    "    phi : Function\n",
    "      The function that derives from the original, which will be used to find the Medium Point Theorem.\n",
    "    a, b : Numbers\n",
    "      The two numbers to build the range.\n",
    "    Err : Floating point number\n",
    "      The error criteria, should be floating point.\n",
    "    prec : Number\n",
    "      How many digits we should use for truncate the calculations.\n",
    "    N : Number\n",
    "      Maximum number of iteractions.\n",
    "\n",
    "    Returns\n",
    "    --------\n",
    "    x_n : Number\n",
    "      The x number founded for the aproximation.\n",
    "    '''\n",
    "    a, b = I\n",
    "    if (a + b)/2 < Err:\n",
    "        return (a + b)/2\n",
    "  \n",
    "    x_m = (a + b)/2\n",
    "    mid_criteria = f(x_m)\n",
    "    print(f'a = {a}  b = {b}  a+b/2 = {x_m}  f({x_m}) = {mid_criteria}')\n",
    "  \n",
    "    if abs(mid_criteria) < Err:\n",
    "        return x_m\n",
    "  \n",
    "    trunc = lambda x: float(f\"%.{prec}f\" % x)\n",
    "\n",
    "    for n in range(0, N):\n",
    "        phi_x_m = trunc(phi(x_m))\n",
    "        f_phi_x_m = trunc(f(phi_x_m))\n",
    "        print(f'x_{n} = {x_m} \\t phi(x_{n}) = {phi_x_m} \\t f(phi(x_{n})) = {f_phi_x_m}')\n",
    "        if abs(f_phi_x_m) < Err:\n",
    "            return x_m\n",
    "        x_m = phi_x_m\n",
    "    \n",
    "    return x_m"
   ]
  },
  {
   "cell_type": "code",
   "execution_count": null,
   "metadata": {
    "id": "uo2Z8sZCNtT5"
   },
   "outputs": [],
   "source": [
    "from numpy import e"
   ]
  },
  {
   "cell_type": "code",
   "execution_count": null,
   "metadata": {
    "colab": {
     "base_uri": "https://localhost:8080/"
    },
    "id": "65WW-uXFBfpc",
    "outputId": "ca02bf0c-2abb-4d6d-b031-98528ee455a9"
   },
   "outputs": [],
   "source": [
    "successive_approx(lambda x: x * (e**x) - 2, lambda x: 2*(e**-x), [0, 2], 4e-2, 5, 50)"
   ]
  },
  {
   "cell_type": "code",
   "execution_count": null,
   "metadata": {},
   "outputs": [],
   "source": []
  }
 ],
 "metadata": {
  "colab": {
   "collapsed_sections": [],
   "name": "sucessive_approximations",
   "provenance": []
  },
  "kernelspec": {
   "display_name": "Python 3",
   "language": "python",
   "name": "python3"
  },
  "language_info": {
   "codemirror_mode": {
    "name": "ipython",
    "version": 3
   },
   "file_extension": ".py",
   "mimetype": "text/x-python",
   "name": "python",
   "nbconvert_exporter": "python",
   "pygments_lexer": "ipython3",
   "version": "3.7.7"
  }
 },
 "nbformat": 4,
 "nbformat_minor": 1
}

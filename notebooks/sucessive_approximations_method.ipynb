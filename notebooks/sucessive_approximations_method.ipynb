{
  "nbformat": 4,
  "nbformat_minor": 0,
  "metadata": {
    "colab": {
      "name": "sucessive_approximations",
      "provenance": [],
      "collapsed_sections": []
    },
    "kernelspec": {
      "name": "python3",
      "display_name": "Python 3"
    },
    "language_info": {
      "name": "python"
    }
  },
  "cells": [
    {
      "cell_type": "code",
      "metadata": {
        "id": "hOV5Qzhf_plZ"
      },
      "source": [
        "def successive_approx(f, phi, I, Err, trunc_length):\n",
        "  '''\n",
        "  Parameters\n",
        "  -----------\n",
        "    f : Function\n",
        "      The function to approximate.\n",
        "    phi : Function\n",
        "      The function that derives from the original, which will be used to find the Medium Point Theorem.\n",
        "    a, b : Numbers\n",
        "      The two numbers to build the range.\n",
        "    Err : Floating point number\n",
        "      The error criteria, should be floating point.\n",
        "    trunc : Number\n",
        "      How many digits we should use for truncate the calculations.\n",
        "    \n",
        "  Returns\n",
        "  --------\n",
        "    x_n : Number\n",
        "      The x number founded for the aproximation.\n",
        "  '''\n",
        "  a, b = I\n",
        "  n = 0\n",
        "  if (a + b)/2 < Err:\n",
        "    return (a + b)/2\n",
        "  \n",
        "  x_m = (a + b)/2\n",
        "  mid_criteria = f(x_m)\n",
        "  print(f'a = {a}  b = {b}  a+b/2 = {x_m}  f({x_m}) = {mid_criteria}')\n",
        "  \n",
        "  if abs(mid_criteria) < Err:\n",
        "    return x_m\n",
        "  \n",
        "  trunc = lambda x: float(f\"%.{trunc_length}f\" % x)\n",
        "\n",
        "  while True:\n",
        "    phi_x_m = trunc(phi(x_m))\n",
        "    f_phi_x_m = trunc(f(phi_x_m))\n",
        "    print(f'x_{n} = {x_m} \\t phi(x_{n}) = {phi_x_m} \\t f(phi(x_{n})) = {f_phi_x_m}')\n",
        "    if abs(f_phi_x_m) < Err:\n",
        "      return x_m\n",
        "    x_m = phi_x_m\n",
        "    n+=1\n",
        "    if n == 50:\n",
        "      print('INFINITE LOOP !')\n",
        "      return None"
      ],
      "execution_count": 35,
      "outputs": []
    },
    {
      "cell_type": "code",
      "metadata": {
        "id": "uo2Z8sZCNtT5"
      },
      "source": [
        "from numpy import e"
      ],
      "execution_count": 25,
      "outputs": []
    },
    {
      "cell_type": "code",
      "metadata": {
        "id": "65WW-uXFBfpc",
        "colab": {
          "base_uri": "https://localhost:8080/"
        },
        "outputId": "ca02bf0c-2abb-4d6d-b031-98528ee455a9"
      },
      "source": [
        "successive_approx(lambda x: x * (e**x) - 2, lambda x: 2*(e**-x), [0, 2], 4e-2, 3)"
      ],
      "execution_count": 37,
      "outputs": [
        {
          "output_type": "stream",
          "text": [
            "a = 0  b = 2  a+b/2 = 1.0  f(1.0) = 0.7182818284590451\n",
            "x_0 = 1.0 \t phi(x_0) = 0.736 \t f(phi(x_0)) = -0.464\n",
            "x_1 = 0.736 \t phi(x_1) = 0.958 \t f(phi(x_1)) = 0.497\n",
            "x_2 = 0.958 \t phi(x_2) = 0.767 \t f(phi(x_2)) = -0.348\n",
            "x_3 = 0.767 \t phi(x_3) = 0.929 \t f(phi(x_3)) = 0.352\n",
            "x_4 = 0.929 \t phi(x_4) = 0.79 \t f(phi(x_4)) = -0.259\n",
            "x_5 = 0.79 \t phi(x_5) = 0.908 \t f(phi(x_5)) = 0.251\n",
            "x_6 = 0.908 \t phi(x_6) = 0.807 \t f(phi(x_6)) = -0.191\n",
            "x_7 = 0.807 \t phi(x_7) = 0.892 \t f(phi(x_7)) = 0.176\n",
            "x_8 = 0.892 \t phi(x_8) = 0.82 \t f(phi(x_8)) = -0.138\n",
            "x_9 = 0.82 \t phi(x_9) = 0.881 \t f(phi(x_9)) = 0.126\n",
            "x_10 = 0.881 \t phi(x_10) = 0.829 \t f(phi(x_10)) = -0.101\n",
            "x_11 = 0.829 \t phi(x_11) = 0.873 \t f(phi(x_11)) = 0.09\n",
            "x_12 = 0.873 \t phi(x_12) = 0.835 \t f(phi(x_12)) = -0.075\n",
            "x_13 = 0.835 \t phi(x_13) = 0.868 \t f(phi(x_13)) = 0.068\n",
            "x_14 = 0.868 \t phi(x_14) = 0.84 \t f(phi(x_14)) = -0.054\n",
            "x_15 = 0.84 \t phi(x_15) = 0.863 \t f(phi(x_15)) = 0.046\n",
            "x_16 = 0.863 \t phi(x_16) = 0.844 \t f(phi(x_16)) = -0.037\n"
          ],
          "name": "stdout"
        },
        {
          "output_type": "execute_result",
          "data": {
            "text/plain": [
              "0.863"
            ]
          },
          "metadata": {
            "tags": []
          },
          "execution_count": 37
        }
      ]
    }
  ]
}
{
 "cells": [
  {
   "cell_type": "code",
   "execution_count": null,
   "metadata": {
    "executionInfo": {
     "elapsed": 670,
     "status": "ok",
     "timestamp": 1616555609480,
     "user": {
      "displayName": "Fábio Lira Filho",
      "photoUrl": "https://lh3.googleusercontent.com/a-/AOh14GhLyVXYB1-WcbUEZXn5HTiNyY2efaWCM0vGt_k=s64",
      "userId": "07948178136263381816"
     },
     "user_tz": 180
    },
    "id": "95ZONPufEPy9"
   },
   "outputs": [],
   "source": [
    "def secant_method(f, x0, x1, N, Err, prec):\n",
    "    '''\n",
    "    Parameters\n",
    "    -----------\n",
    "    f : Function\n",
    "      The function to approximate.\n",
    "    x0, x1 : Numbers\n",
    "      The two starting guesses to run the root-finding algorithm.\n",
    "    N : Number\n",
    "      Maximum number of iteractions.\n",
    "    Err : Floating point number\n",
    "      The error criteria, should be floating point.\n",
    "    prec : Number\n",
    "      How many digits we should use for truncate the calculations.\n",
    "\n",
    "    Returns\n",
    "    --------\n",
    "    x_n : Number\n",
    "      The x number founded for the aproximation.\n",
    "    '''\n",
    "    \n",
    "    x_k = x0\n",
    "    x_k_1 = x1\n",
    "    x_k_2 = 0\n",
    "\n",
    "    trunc = lambda x: float( \"%.{}f\".format(prec) % x)\n",
    "\n",
    "    for n in range(0, N):\n",
    "        x_k_2 = x_k_1 - trunc(float(f(x_k_1)) / trunc((trunc((f(x_k_1) - f(x_k))/trunc((x_k_1 - x_k))))))\n",
    "        print(f\"{n}-> x_{n} = {x_k} \\t  x_{n+1} = {x_k_1} \\t x_{n+2} = {x_k_2}\")\n",
    "        print(f\"{n}- > f(x_{n}) = {trunc(f(x_k))} \\t f(x_{n+1}) = {trunc(f(x_k_1))} \\t f(x_{n+2}) = {trunc(f(x_k_2))}\")\n",
    "        if x_k_2 == 0:\n",
    "            print(\"Found exact root.\")\n",
    "            return x_k_2\n",
    "        elif abs(x_k_2) < Err:\n",
    "            return x_k_2\n",
    "        elif abs(x_k_2 - x_k_1) < Err:\n",
    "            return x_k_2\n",
    "        x_k = x_k_1\n",
    "        x_k_1 = x_k_2\n",
    "\n",
    "    print(f\" {n}-> x_{n} = {x_k} \\t  x_{n+1} = {x_k_1} \\t x_{n+2} = {x_k_2}\")\n",
    "    return x_k_2"
   ]
  },
  {
   "cell_type": "code",
   "execution_count": null,
   "metadata": {
    "executionInfo": {
     "elapsed": 591,
     "status": "ok",
     "timestamp": 1616554327687,
     "user": {
      "displayName": "Fábio Lira Filho",
      "photoUrl": "https://lh3.googleusercontent.com/a-/AOh14GhLyVXYB1-WcbUEZXn5HTiNyY2efaWCM0vGt_k=s64",
      "userId": "07948178136263381816"
     },
     "user_tz": 180
    },
    "id": "E7yqfMIWHMVK"
   },
   "outputs": [],
   "source": [
    "from numpy import e, sqrt"
   ]
  },
  {
   "cell_type": "code",
   "execution_count": null,
   "metadata": {
    "colab": {
     "base_uri": "https://localhost:8080/"
    },
    "executionInfo": {
     "elapsed": 602,
     "status": "ok",
     "timestamp": 1616555618768,
     "user": {
      "displayName": "Fábio Lira Filho",
      "photoUrl": "https://lh3.googleusercontent.com/a-/AOh14GhLyVXYB1-WcbUEZXn5HTiNyY2efaWCM0vGt_k=s64",
      "userId": "07948178136263381816"
     },
     "user_tz": 180
    },
    "id": "6edzTpnkQF_e",
    "outputId": "059ab60b-7067-40e5-c28f-e33d3c4614be"
   },
   "outputs": [],
   "source": [
    "secant_method(lambda x: sqrt(x) - 5*e**(-x), 1.4, 1.5, 25, 1e-2, 5)"
   ]
  },
  {
   "cell_type": "code",
   "execution_count": null,
   "metadata": {},
   "outputs": [],
   "source": []
  }
 ],
 "metadata": {
  "colab": {
   "authorship_tag": "ABX9TyMI6sBQF7gpajMgcZLw5+bp",
   "collapsed_sections": [],
   "name": "secant method",
   "provenance": []
  },
  "kernelspec": {
   "display_name": "Python 3",
   "language": "python",
   "name": "python3"
  },
  "language_info": {
   "codemirror_mode": {
    "name": "ipython",
    "version": 3
   },
   "file_extension": ".py",
   "mimetype": "text/x-python",
   "name": "python",
   "nbconvert_exporter": "python",
   "pygments_lexer": "ipython3",
   "version": "3.7.7"
  }
 },
 "nbformat": 4,
 "nbformat_minor": 1
}

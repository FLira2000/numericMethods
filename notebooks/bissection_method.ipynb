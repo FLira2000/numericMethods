{
  "nbformat": 4,
  "nbformat_minor": 0,
  "metadata": {
    "colab": {
      "name": "bissection_method",
      "provenance": [],
      "collapsed_sections": []
    },
    "kernelspec": {
      "name": "python3",
      "display_name": "Python 3"
    },
    "language_info": {
      "name": "python"
    }
  },
  "cells": [
    {
      "cell_type": "code",
      "metadata": {
        "id": "odF-IEtfXltR"
      },
      "source": [
        "def bisection(f,a,b,N):\n",
        "    '''\n",
        "    Parameters\n",
        "    ----------\n",
        "    f : function\n",
        "        The function for which we are trying to approximate a solution f(x)=0.\n",
        "    a,b : numbers\n",
        "        The interval in which to search for a solution. The function returns\n",
        "        None if f(a)*f(b) >= 0 since a solution is not guaranteed.\n",
        "    N : (positive) integer\n",
        "        The number of iterations to implement.\n",
        "\n",
        "    Returns\n",
        "    -------\n",
        "    x_N : number\n",
        "        The midpoint of the Nth interval computed by the bisection method. The\n",
        "        initial interval [a_0,b_0] is given by [a,b]. If f(m_n) == 0 for some\n",
        "        midpoint m_n = (a_n + b_n)/2, then the function returns this solution.\n",
        "        If all signs of values f(a_n), f(b_n) and f(m_n) are the same at any\n",
        "        iteration, the bisection method fails and return None.\n",
        "    '''\n",
        "    if f(a)*f(b) >= 0:\n",
        "        print(\"Bisection method fails.\")\n",
        "        return None\n",
        "    a_n = a\n",
        "    b_n = b\n",
        "    for n in range(0,N+1):\n",
        "        m_n = (a_n + b_n)/2\n",
        "        f_m_n = f(m_n)\n",
        "        if f(a_n)*f_m_n < 0:\n",
        "            a_n = a_n\n",
        "            b_n = m_n\n",
        "        elif f(b_n)*f_m_n < 0:\n",
        "            a_n = m_n\n",
        "            b_n = b_n\n",
        "        elif f_m_n == 0:\n",
        "            print(\"Found exact solution.\")\n",
        "            print(f\"a_{n}: {a_n}  b_{n}: {b_n}  x_{n}: {f_m_n}\")\n",
        "            return m_n\n",
        "        else:\n",
        "            print(\"Bisection method fails.\")\n",
        "            return None\n",
        "        print(f\"a_{n}: {a_n}  b_{n}: {b_n}  x_{n}: {f_m_n}\")\n",
        "    return (a_n + b_n)/2"
      ],
      "execution_count": 21,
      "outputs": []
    },
    {
      "cell_type": "code",
      "metadata": {
        "id": "udgrEQHuSjyW"
      },
      "source": [
        "from numpy import log10"
      ],
      "execution_count": 2,
      "outputs": []
    },
    {
      "cell_type": "code",
      "metadata": {
        "colab": {
          "base_uri": "https://localhost:8080/"
        },
        "id": "VLK1E00DSVoY",
        "outputId": "f555d3ad-bda5-4534-9c68-6eb0d2760cb6"
      },
      "source": [
        "bisection(lambda x: x*log10(x) - 1, 2, 3, 3) "
      ],
      "execution_count": 24,
      "outputs": [
        {
          "output_type": "stream",
          "text": [
            "a_0: 2.5  b_0: 3  x_0: -0.005149978319906046\n",
            "a_1: 2.5  b_1: 2.75  x_1: 0.20816490803322218\n",
            "a_2: 2.5  b_2: 2.625  x_2: 0.10021443282268616\n",
            "a_3: 2.5  b_3: 2.5625  x_3: 0.04720117728851503\n"
          ],
          "name": "stdout"
        },
        {
          "output_type": "execute_result",
          "data": {
            "text/plain": [
              "2.53125"
            ]
          },
          "metadata": {
            "tags": []
          },
          "execution_count": 24
        }
      ]
    },
    {
      "cell_type": "code",
      "metadata": {
        "id": "4fDIDWmLUBcp"
      },
      "source": [
        "def bisection_unlimited(f,a,b,p):\n",
        "    '''\n",
        "    Parameters\n",
        "    ----------\n",
        "    f : function\n",
        "        The function for which we are trying to approximate a solution f(x)=0.\n",
        "    a,b : numbers\n",
        "        The interval in which to search for a solution. The function returns\n",
        "        None if f(a)*f(b) >= 0 since a solution is not guaranteed.\n",
        "    p : floating point\n",
        "        The precision for the calculation. Must be passed as a float.\n",
        "    Returns\n",
        "    -------\n",
        "    n : number\n",
        "        The number of iteractions the function took to find the solution wanted. Returns None if not found a possible solution, otherwise.\n",
        "    '''\n",
        "\n",
        "    if f(a)*f(b) >= 0:\n",
        "        print(\"Bisection method fails.\")\n",
        "        return None\n",
        "    a_n = a\n",
        "    b_n = b\n",
        "    n = 0\n",
        "    while True:\n",
        "        m_n = (a_n + b_n)/2\n",
        "        f_m_n = f(m_n)\n",
        "        if f(a_n)*f_m_n < 0:\n",
        "            a_n = a_n\n",
        "            b_n = m_n\n",
        "        elif f(b_n)*f_m_n < 0:\n",
        "            a_n = m_n\n",
        "            b_n = b_n\n",
        "        elif f_m_n == 0:\n",
        "            print(\"Found exact solution.\")\n",
        "            print(f\"a_{n}: {a_n}  b_{n}: {b_n}  x_{n}: {m_n}  f(x_{n}): {f_m_n}\")\n",
        "            return m_n\n",
        "        elif ((b_n - a_n)/2) < p:\n",
        "            print(\"Maximum precision reached.\")\n",
        "            print(f\"a_{n}: {a_n}  b_{n}: {b_n}  x_{n}: {m_n}  f(x_{n}): {f_m_n}\")\n",
        "            return m_n\n",
        "        else:\n",
        "            print(\"Bisection method fails.\")\n",
        "            return None\n",
        "        print(f\"a_{n}: {a_n}  b_{n}: {b_n}  x_{n}: {m_n}  f(x_{n}): {f_m_n}\")\n",
        "        n+=1\n",
        "    return n"
      ],
      "execution_count": 25,
      "outputs": []
    },
    {
      "cell_type": "code",
      "metadata": {
        "colab": {
          "base_uri": "https://localhost:8080/"
        },
        "id": "oJ9IMr5hVF2c",
        "outputId": "8e83562f-2ec3-4586-931f-f4be56379ea7"
      },
      "source": [
        "bisection_unlimited(lambda x: x*log10(x) - 1, 2, 3, 0.000000001) "
      ],
      "execution_count": 26,
      "outputs": [
        {
          "output_type": "stream",
          "text": [
            "a_0: 2.5  b_0: 3  x_0: 2.5  f(x_0): -0.005149978319906046\n",
            "a_1: 2.5  b_1: 2.75  x_1: 2.75  f(x_1): 0.20816490803322218\n",
            "a_2: 2.5  b_2: 2.625  x_2: 2.625  f(x_2): 0.10021443282268616\n",
            "a_3: 2.5  b_3: 2.5625  x_3: 2.5625  f(x_3): 0.04720117728851503\n",
            "a_4: 2.5  b_4: 2.53125  x_4: 2.53125  f(x_4): 0.020941821414320216\n",
            "a_5: 2.5  b_5: 2.515625  x_5: 2.515625  f(x_5): 0.007874847339405688\n",
            "a_6: 2.5  b_6: 2.5078125  x_6: 2.5078125  f(x_6): 0.0013571495702984215\n",
            "a_7: 2.50390625  b_7: 2.5078125  x_7: 2.50390625  f(x_7): -0.001897737669271815\n",
            "a_8: 2.505859375  b_8: 2.5078125  x_8: 2.505859375  f(x_8): -0.0002706246151515934\n",
            "a_9: 2.505859375  b_9: 2.5068359375  x_9: 2.5068359375  f(x_9): 0.0005431798683572797\n",
            "a_10: 2.505859375  b_10: 2.50634765625  x_10: 2.50634765625  f(x_10): 0.00013625697027586092\n",
            "a_11: 2.506103515625  b_11: 2.50634765625  x_11: 2.506103515625  f(x_11): -6.718898702273712e-05\n",
            "a_12: 2.506103515625  b_12: 2.5062255859375  x_12: 2.5062255859375  f(x_12): 3.453270054332158e-05\n",
            "a_13: 2.50616455078125  b_13: 2.5062255859375  x_13: 2.50616455078125  f(x_13): -1.6328466018400434e-05\n",
            "a_14: 2.50616455078125  b_14: 2.506195068359375  x_14: 2.506195068359375  f(x_14): 9.102036568675587e-06\n",
            "a_15: 2.5061798095703125  b_15: 2.506195068359375  x_15: 2.5061798095703125  f(x_15): -3.613234898391937e-06\n",
            "a_16: 2.5061798095703125  b_16: 2.5061874389648438  x_16: 2.5061874389648438  f(x_16): 2.744395791731691e-06\n",
            "a_17: 2.506183624267578  b_17: 2.5061874389648438  x_17: 2.506183624267578  f(x_17): -4.3442081421041223e-07\n",
            "a_18: 2.506183624267578  b_18: 2.506185531616211  x_18: 2.506185531616211  f(x_18): 1.1549871736793449e-06\n",
            "a_19: 2.506183624267578  b_19: 2.5061845779418945  x_19: 2.5061845779418945  f(x_19): 3.602831009086316e-07\n",
            "a_20: 2.5061841011047363  b_20: 2.5061845779418945  x_20: 2.5061841011047363  f(x_20): -3.7068876412860163e-08\n",
            "a_21: 2.5061841011047363  b_21: 2.5061843395233154  x_21: 2.5061843395233154  f(x_21): 1.616071072518821e-07\n",
            "a_22: 2.5061841011047363  b_22: 2.506184220314026  x_22: 2.506184220314026  f(x_22): 6.226911430928794e-08\n",
            "a_23: 2.5061841011047363  b_23: 2.506184160709381  x_23: 2.506184160709381  f(x_23): 1.2600118726169285e-08\n",
            "a_24: 2.5061841309070587  b_24: 2.506184160709381  x_24: 2.5061841309070587  f(x_24): -1.2234378954367742e-08\n",
            "a_25: 2.5061841309070587  b_25: 2.50618414580822  x_25: 2.50618414580822  f(x_25): 1.828699414119228e-10\n",
            "a_26: 2.5061841383576393  b_26: 2.50618414580822  x_26: 2.5061841383576393  f(x_26): -6.025754561989061e-09\n",
            "a_27: 2.5061841420829296  b_27: 2.50618414580822  x_27: 2.5061841420829296  f(x_27): -2.921442310288569e-09\n",
            "a_28: 2.5061841439455748  b_28: 2.50618414580822  x_28: 2.5061841439455748  f(x_28): -1.3692862399494743e-09\n",
            "a_29: 2.5061841448768973  b_29: 2.50618414580822  x_29: 2.5061841448768973  f(x_29): -5.932081492687757e-10\n",
            "a_30: 2.5061841453425586  b_30: 2.50618414580822  x_30: 2.5061841453425586  f(x_30): -2.0516921495072893e-10\n",
            "a_31: 2.5061841455753893  b_31: 2.50618414580822  x_31: 2.5061841455753893  f(x_31): -1.114963676940306e-11\n",
            "a_32: 2.5061841455753893  b_32: 2.5061841456918046  x_32: 2.5061841456918046  f(x_32): 8.58602078324111e-11\n",
            "a_33: 2.5061841455753893  b_33: 2.506184145633597  x_33: 2.506184145633597  f(x_33): 3.735523002035279e-11\n",
            "a_34: 2.5061841455753893  b_34: 2.506184145604493  x_34: 2.506184145604493  f(x_34): 1.3102852136626097e-11\n",
            "a_35: 2.5061841455753893  b_35: 2.506184145589941  x_35: 2.506184145589941  f(x_35): 9.765521724602877e-13\n",
            "a_36: 2.5061841455826652  b_36: 2.506184145589941  x_36: 2.5061841455826652  f(x_36): -5.086597809622617e-12\n",
            "a_37: 2.506184145586303  b_37: 2.506184145589941  x_37: 2.506184145586303  f(x_37): -2.0550228185811648e-12\n",
            "a_38: 2.506184145588122  b_38: 2.506184145589941  x_38: 2.506184145588122  f(x_38): -5.392353230604385e-13\n",
            "a_39: 2.506184145588122  b_39: 2.5061841455890317  x_39: 2.5061841455890317  f(x_39): 2.1871393585115584e-13\n",
            "a_40: 2.506184145588577  b_40: 2.5061841455890317  x_40: 2.506184145588577  f(x_40): -1.602051824534101e-13\n",
            "a_41: 2.506184145588577  b_41: 2.5061841455888043  x_41: 2.5061841455888043  f(x_41): 2.930988785010413e-14\n",
            "a_42: 2.5061841455886906  b_42: 2.5061841455888043  x_42: 2.5061841455886906  f(x_42): -6.550315845288424e-14\n",
            "a_43: 2.5061841455887475  b_43: 2.5061841455888043  x_43: 2.5061841455887475  f(x_43): -1.8207657603852567e-14\n",
            "a_44: 2.5061841455887475  b_44: 2.506184145588776  x_44: 2.506184145588776  f(x_44): 5.551115123125783e-15\n",
            "a_45: 2.5061841455887617  b_45: 2.506184145588776  x_45: 2.5061841455887617  f(x_45): -6.217248937900877e-15\n",
            "a_46: 2.506184145588769  b_46: 2.506184145588776  x_46: 2.506184145588769  f(x_46): -3.3306690738754696e-16\n",
            "a_47: 2.506184145588769  b_47: 2.5061841455887723  x_47: 2.5061841455887723  f(x_47): 2.6645352591003757e-15\n",
            "a_48: 2.506184145588769  b_48: 2.5061841455887706  x_48: 2.5061841455887706  f(x_48): 1.1102230246251565e-15\n",
            "a_49: 2.506184145588769  b_49: 2.5061841455887697  x_49: 2.5061841455887697  f(x_49): 4.440892098500626e-16\n",
            "Found exact solution.\n",
            "a_50: 2.506184145588769  b_50: 2.5061841455887697  x_50: 2.5061841455887692  f(x_50): 0.0\n"
          ],
          "name": "stdout"
        },
        {
          "output_type": "execute_result",
          "data": {
            "text/plain": [
              "2.5061841455887692"
            ]
          },
          "metadata": {
            "tags": []
          },
          "execution_count": 26
        }
      ]
    }
  ]
}